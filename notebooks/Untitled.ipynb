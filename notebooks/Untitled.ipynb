{
 "cells": [
  {
   "cell_type": "code",
   "execution_count": 3,
   "metadata": {},
   "outputs": [
    {
     "name": "stdout",
     "output_type": "stream",
     "text": [
      "/home/adityasidharta/git/saltedge_python\n"
     ]
    }
   ],
   "source": [
    "%cd /home/adityasidharta/git/saltedge_python"
   ]
  },
  {
   "cell_type": "code",
   "execution_count": 4,
   "metadata": {},
   "outputs": [],
   "source": [
    "import pandas as pd"
   ]
  },
  {
   "cell_type": "code",
   "execution_count": 5,
   "metadata": {},
   "outputs": [],
   "source": [
    "import streamlit as st\n",
    "import datetime as dt\n",
    "\n",
    "import pandas as pd\n",
    "from src.utils.datetime import MONTHS\n",
    "from src.utils.directory import FINAL_PATH\n",
    "import fire\n",
    "import os\n",
    "from emoji import emojize"
   ]
  },
  {
   "cell_type": "code",
   "execution_count": 6,
   "metadata": {},
   "outputs": [],
   "source": [
    "year = 2019\n",
    "month = 9"
   ]
  },
  {
   "cell_type": "code",
   "execution_count": 7,
   "metadata": {},
   "outputs": [],
   "source": [
    "expense_df = pd.read_csv(os.path.join(FINAL_PATH, \"expense_{}_{}.csv\".format(year, month)))\n",
    "income_df = pd.read_csv(os.path.join(FINAL_PATH, \"income_{}_{}.csv\".format(year, month)))\n"
   ]
  },
  {
   "cell_type": "code",
   "execution_count": 22,
   "metadata": {},
   "outputs": [],
   "source": [
    "category_df = expense_df.groupby('true_category')['amount'].sum().reset_index().sort_values('amount').reset_index(drop=True)\n",
    "n_df = len(category_df)\n",
    "if n_df <= 5:\n",
    "    result_df = category_df\n",
    "top_df, others_df = category_df.loc[:4, :], category_df.loc[4:, :]\n",
    "sum_others_df = pd.DataFrame({\n",
    "    'true_category': ['OTHER CATEGORIES'],\n",
    "    'amount': [others_df.amount.sum()]\n",
    "})\n",
    "result_df = top_df.append(sum_others_df).reset_index(drop=True)"
   ]
  },
  {
   "cell_type": "code",
   "execution_count": 23,
   "metadata": {},
   "outputs": [
    {
     "data": {
      "text/html": [
       "<div>\n",
       "<style scoped>\n",
       "    .dataframe tbody tr th:only-of-type {\n",
       "        vertical-align: middle;\n",
       "    }\n",
       "\n",
       "    .dataframe tbody tr th {\n",
       "        vertical-align: top;\n",
       "    }\n",
       "\n",
       "    .dataframe thead th {\n",
       "        text-align: right;\n",
       "    }\n",
       "</style>\n",
       "<table border=\"1\" class=\"dataframe\">\n",
       "  <thead>\n",
       "    <tr style=\"text-align: right;\">\n",
       "      <th></th>\n",
       "      <th>true_category</th>\n",
       "      <th>amount</th>\n",
       "    </tr>\n",
       "  </thead>\n",
       "  <tbody>\n",
       "    <tr>\n",
       "      <th>0</th>\n",
       "      <td>OTHER_EXPENSES</td>\n",
       "      <td>-904.00</td>\n",
       "    </tr>\n",
       "    <tr>\n",
       "      <th>1</th>\n",
       "      <td>SHOPPING</td>\n",
       "      <td>-771.71</td>\n",
       "    </tr>\n",
       "    <tr>\n",
       "      <th>2</th>\n",
       "      <td>FEE</td>\n",
       "      <td>-333.50</td>\n",
       "    </tr>\n",
       "    <tr>\n",
       "      <th>3</th>\n",
       "      <td>TAXI</td>\n",
       "      <td>-207.49</td>\n",
       "    </tr>\n",
       "    <tr>\n",
       "      <th>4</th>\n",
       "      <td>BILLS_AND_UTILITIES</td>\n",
       "      <td>-95.97</td>\n",
       "    </tr>\n",
       "    <tr>\n",
       "      <th>5</th>\n",
       "      <td>OTHER CATEGORIES</td>\n",
       "      <td>-363.44</td>\n",
       "    </tr>\n",
       "  </tbody>\n",
       "</table>\n",
       "</div>"
      ],
      "text/plain": [
       "         true_category  amount\n",
       "0       OTHER_EXPENSES -904.00\n",
       "1             SHOPPING -771.71\n",
       "2                  FEE -333.50\n",
       "3                 TAXI -207.49\n",
       "4  BILLS_AND_UTILITIES  -95.97\n",
       "5     OTHER CATEGORIES -363.44"
      ]
     },
     "execution_count": 23,
     "metadata": {},
     "output_type": "execute_result"
    }
   ],
   "source": [
    "result_df"
   ]
  },
  {
   "cell_type": "code",
   "execution_count": null,
   "metadata": {},
   "outputs": [],
   "source": []
  }
 ],
 "metadata": {
  "kernelspec": {
   "display_name": "saltedge_python",
   "language": "python",
   "name": "saltedge_python"
  },
  "language_info": {
   "codemirror_mode": {
    "name": "ipython",
    "version": 3
   },
   "file_extension": ".py",
   "mimetype": "text/x-python",
   "name": "python",
   "nbconvert_exporter": "python",
   "pygments_lexer": "ipython3",
   "version": "3.7.2"
  },
  "toc": {
   "base_numbering": 1,
   "nav_menu": {},
   "number_sections": true,
   "sideBar": true,
   "skip_h1_title": false,
   "title_cell": "Table of Contents",
   "title_sidebar": "Contents",
   "toc_cell": false,
   "toc_position": {},
   "toc_section_display": true,
   "toc_window_display": false
  }
 },
 "nbformat": 4,
 "nbformat_minor": 2
}
